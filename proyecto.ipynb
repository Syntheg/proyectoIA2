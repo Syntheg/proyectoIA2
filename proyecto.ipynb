{
 "cells": [
  {
   "cell_type": "code",
   "execution_count": null,
   "id": "c939ee7f",
   "metadata": {},
   "outputs": [],
   "source": [
    "import numpy as np\n",
    "import pandas as pd\n",
    "from sklearn import linear_model  #para regresión lineal\n",
    "import matplotlib.pyplot as plt\n",
    "import seaborn as sns\n",
    "from sklearn import preprocessing\n",
    "from sklearn import tree\n",
    "from sklearn.preprocessing import LabelEncoder  #para la transformación de los datos\n",
    "from sklearn.model_selection import train_test_split\n",
    "from sklearn.linear_model import LogisticRegressionCV  # para modelo de rgresión logística\n",
    "from sklearn import linear_model  # para modelo de regresión lineal\n",
    "from sklearn.neural_network import MLPRegressor  # para la red neuronal\n",
    "from sklearn.neural_network import MLPClassifier\n",
    "from sklearn.metrics import classification_report  "
   ]
  },
  {
   "cell_type": "code",
   "execution_count": 4,
   "id": "d364eff0-e6a8-4983-890a-c5ede886798d",
   "metadata": {},
   "outputs": [
    {
     "name": "stderr",
     "output_type": "stream",
     "text": [
      "usage: jupyter [-h] [--version] [--config-dir] [--data-dir] [--runtime-dir]\n",
      "               [--paths] [--json] [--debug]\n",
      "               [subcommand]\n",
      "\n",
      "Jupyter: Interactive Computing\n",
      "\n",
      "positional arguments:\n",
      "  subcommand     the subcommand to launch\n",
      "\n",
      "options:\n",
      "  -h, --help     show this help message and exit\n",
      "  --version      show the versions of core jupyter packages and exit\n",
      "  --config-dir   show Jupyter config dir\n",
      "  --data-dir     show Jupyter data dir\n",
      "  --runtime-dir  show Jupyter runtime dir\n",
      "  --paths        show all Jupyter paths. Add --json for machine-readable\n",
      "                 format.\n",
      "  --json         output paths as machine-readable json\n",
      "  --debug        output debug information about paths\n",
      "\n",
      "Available subcommands: console dejavu events execute kernel kernelspec lab\n",
      "labextension labhub migrate nbconvert notebook qtconsole run script server\n",
      "troubleshoot trust\n",
      "\n",
      "Jupyter command `jupyter-nbextension` not found.\n"
     ]
    }
   ],
   "source": [
    "!jupyter nbextension enable --py widgetsnbextension --sys-prefix"
   ]
  },
  {
   "cell_type": "code",
   "execution_count": 6,
   "id": "aec5881f-8420-490b-82d2-dcdc720974cf",
   "metadata": {},
   "outputs": [
    {
     "name": "stderr",
     "output_type": "stream",
     "text": [
      "usage: jupyter [-h] [--version] [--config-dir] [--data-dir] [--runtime-dir]\n",
      "               [--paths] [--json] [--debug]\n",
      "               [subcommand]\n",
      "\n",
      "Jupyter: Interactive Computing\n",
      "\n",
      "positional arguments:\n",
      "  subcommand     the subcommand to launch\n",
      "\n",
      "options:\n",
      "  -h, --help     show this help message and exit\n",
      "  --version      show the versions of core jupyter packages and exit\n",
      "  --config-dir   show Jupyter config dir\n",
      "  --data-dir     show Jupyter data dir\n",
      "  --runtime-dir  show Jupyter runtime dir\n",
      "  --paths        show all Jupyter paths. Add --json for machine-readable\n",
      "                 format.\n",
      "  --json         output paths as machine-readable json\n",
      "  --debug        output debug information about paths\n",
      "\n",
      "Available subcommands: console dejavu events execute kernel kernelspec lab\n",
      "labextension labhub migrate nbconvert notebook qtconsole run script server\n",
      "troubleshoot trust\n",
      "\n",
      "Jupyter command `jupyter-serverextension` not found.\n"
     ]
    }
   ],
   "source": [
    "!jupyter serverextension enable voila --sys-prefix"
   ]
  },
  {
   "cell_type": "code",
   "execution_count": null,
   "id": "af3a6b10",
   "metadata": {},
   "outputs": [],
   "source": [
    "df = pd.read_csv('startup data.csv')\n",
    "df.head()"
   ]
  },
  {
   "cell_type": "code",
   "execution_count": null,
   "id": "0384469b",
   "metadata": {},
   "outputs": [],
   "source": [
    "df = df[['id', 'city', 'name', 'funding_rounds', 'funding_total_usd', 'category_code', 'is_software','is_web', 'is_mobile', 'is_enterprise', 'is_advertising', 'is_gamesvideo', 'is_biotech', 'is_othercategory', 'status', 'is_top500']]\n",
    "df.columns = ['id', 'ciudad', 'nombre', 'rondas_de_inversion', 'inversion_total', 'id_categoria', 'software', 'web', 'movil', 'empresa', 'publicidad', 'videojuego', 'biotecnologia', 'otra_categoria', 'estado', 'exito']\n",
    "df.head()"
   ]
  },
  {
   "cell_type": "code",
   "execution_count": null,
   "id": "3fa26fe5",
   "metadata": {},
   "outputs": [],
   "source": [
    "df.isnull().sum()"
   ]
  },
  {
   "cell_type": "code",
   "execution_count": null,
   "id": "fe5b2b36",
   "metadata": {},
   "outputs": [],
   "source": [
    "df.shape"
   ]
  },
  {
   "cell_type": "code",
   "execution_count": null,
   "id": "460174ff",
   "metadata": {},
   "outputs": [],
   "source": [
    "df.dtypes"
   ]
  },
  {
   "cell_type": "code",
   "execution_count": null,
   "id": "87192196",
   "metadata": {},
   "outputs": [],
   "source": []
  },
  {
   "cell_type": "code",
   "execution_count": null,
   "id": "99eebc45",
   "metadata": {},
   "outputs": [],
   "source": [
    "encoder = preprocessing.LabelEncoder()\n",
    "\n",
    "ObjList = df.select_dtypes(include =('object')).columns\n",
    "\n",
    "for i in ObjList:\n",
    "    df[i] = encoder.fit_transform(df[i].astype(str))\n",
    "\n",
    "df.head()"
   ]
  },
  {
   "cell_type": "code",
   "execution_count": null,
   "id": "7755cec6",
   "metadata": {},
   "outputs": [],
   "source": [
    "correlation_mat = df.corr()\n",
    "\n",
    "sns.heatmap(correlation_mat, annot = True)\n",
    "\n",
    "plt.show()"
   ]
  },
  {
   "cell_type": "code",
   "execution_count": null,
   "id": "bc354aba",
   "metadata": {},
   "outputs": [],
   "source": [
    "X = df[['id', 'ciudad', 'nombre', 'rondas_de_inversion', 'inversion_total', 'id_categoria', 'software', 'web', 'movil', 'empresa', 'publicidad', 'videojuego', 'biotecnologia', 'otra_categoria', 'estado']]\n",
    "Y = df['exito']\n",
    "X_train, X_test, Y_train, Y_test = train_test_split(X, Y, test_size=0.2) \n",
    "\n",
    "mc1 = LogisticRegressionCV(cv=10, max_iter = 5000)\n",
    "\n",
    "mc1.fit(X_train, Y_train)\n",
    "Y_pred_mc1 = mc1.predict(X_test)\n",
    "\n",
    "print(\"Modelo de Clasificación 1:Regresión logística - Precisión en conjunto de prueba: \", mc1.score(X_test, Y_test))\n"
   ]
  },
  {
   "cell_type": "code",
   "execution_count": null,
   "id": "382e8a58",
   "metadata": {},
   "outputs": [],
   "source": [
    "mc2 = tree.DecisionTreeClassifier()\n",
    "\n",
    "# Entrenamiento\n",
    "mc2.fit(X_train,Y_train)\n",
    "\n",
    "# Prueba\n",
    "mc2.predict(X_test)\n",
    "\n",
    "print(\"Modelo de Clasificación 2: Arbol de decisión - Precisión: \",format(mc2.score(X_train,Y_train)))"
   ]
  },
  {
   "cell_type": "code",
   "execution_count": null,
   "id": "dcb5c85d",
   "metadata": {},
   "outputs": [],
   "source": [
    "mc3 = MLPClassifier(hidden_layer_sizes=(100,200,200,200))\n",
    "\n",
    "#Entreno el modelo\n",
    "mc3.fit(X_train,Y_train.values.ravel())\n",
    "\n",
    "#Realizo una predicción\n",
    "Y_pred_mc3 = mc3.predict(X_test)\n",
    "\n",
    "#Calculo precisión del conjunto de prueba\n",
    "print(\"Modelo de Clasificación 3: Red Neuronal - Precisión: \", format(mc3.score(X_train,Y_train)))"
   ]
  },
  {
   "cell_type": "code",
   "execution_count": null,
   "id": "9925fe9a",
   "metadata": {},
   "outputs": [],
   "source": [
    "Y_mc2 = mc2.predict(X_test)\n",
    "print()\n",
    "print('------- Desempeño de Arbol de decisión -------')\n",
    "print (classification_report(Y_test, Y_mc2, zero_division=1))\n"
   ]
  },
  {
   "cell_type": "code",
   "execution_count": null,
   "id": "725e39be",
   "metadata": {},
   "outputs": [],
   "source": [
    "X1_new = np.array(['4567', '173', '3', '6', '67000000', '27', '1', '0', '0', '0', '0', '0', '0', '0', '1']) \n",
    "\n",
    "Prediccion1 = mc2.predict(X1_new.reshape(1, -1))\n",
    "print('Predicción 1: ', Prediccion1)\n"
   ]
  },
  {
   "cell_type": "code",
   "execution_count": null,
   "id": "3e5ebfad",
   "metadata": {},
   "outputs": [],
   "source": []
  }
 ],
 "metadata": {
  "kernelspec": {
   "display_name": "Python 3 (ipykernel)",
   "language": "python",
   "name": "python3"
  },
  "language_info": {
   "codemirror_mode": {
    "name": "ipython",
    "version": 3
   },
   "file_extension": ".py",
   "mimetype": "text/x-python",
   "name": "python",
   "nbconvert_exporter": "python",
   "pygments_lexer": "ipython3",
   "version": "3.11.9"
  }
 },
 "nbformat": 4,
 "nbformat_minor": 5
}
